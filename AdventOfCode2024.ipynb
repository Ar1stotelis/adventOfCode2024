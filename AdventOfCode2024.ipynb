{
 "cells": [
  {
   "cell_type": "markdown",
   "metadata": {},
   "source": [
    "# Day 1"
   ]
  },
  {
   "cell_type": "code",
   "execution_count": 13,
   "metadata": {},
   "outputs": [
    {
     "name": "stdout",
     "output_type": "stream",
     "text": [
      "18567089\n"
     ]
    }
   ],
   "source": [
    "# Day 1 part 2\n",
    "\n",
    "with open('day1input.txt', 'r') as file:\n",
    "    lines = file.readlines()\n",
    "\n",
    "left_column: list[int] = []\n",
    "right_column: list[int] = []\n",
    "\n",
    "\n",
    "for line in lines:\n",
    "\n",
    "    numbers = line.split()\n",
    "    if len(numbers) == 2:\n",
    "\n",
    "        left, right = map(int,numbers)\n",
    "        left_column.append(left)\n",
    "        right_column.append(right)\n",
    "\n",
    "left_column.sort()\n",
    "right_column.sort()\n",
    "\n",
    "sum = 0\n",
    "\n",
    "for num in left_column:\n",
    "    appearances = 0\n",
    "    for n in right_column:\n",
    "        if num == n:\n",
    "            appearances += 1\n",
    "\n",
    "    sum += (num * appearances)\n",
    "\n",
    "print(sum)\n",
    "\n"
   ]
  },
  {
   "cell_type": "code",
   "execution_count": 14,
   "metadata": {},
   "outputs": [
    {
     "ename": "TypeError",
     "evalue": "'int' object is not callable",
     "output_type": "error",
     "traceback": [
      "\u001b[0;31m---------------------------------------------------------------------------\u001b[0m",
      "\u001b[0;31mTypeError\u001b[0m                                 Traceback (most recent call last)",
      "Cell \u001b[0;32mIn[14], line 23\u001b[0m\n\u001b[1;32m     20\u001b[0m right_column\u001b[38;5;241m.\u001b[39msort()\n\u001b[1;32m     22\u001b[0m differences \u001b[38;5;241m=\u001b[39m [\u001b[38;5;28mabs\u001b[39m(l\u001b[38;5;241m-\u001b[39mr)\u001b[38;5;28;01mfor\u001b[39;00m l,r \u001b[38;5;129;01min\u001b[39;00m \u001b[38;5;28mzip\u001b[39m(left_column,right_column)]\n\u001b[0;32m---> 23\u001b[0m difference \u001b[38;5;241m=\u001b[39m \u001b[38;5;28;43msum\u001b[39;49m\u001b[43m(\u001b[49m\u001b[43mdifferences\u001b[49m\u001b[43m)\u001b[49m\n\u001b[1;32m     24\u001b[0m \u001b[38;5;28mprint\u001b[39m(\u001b[38;5;124mf\u001b[39m\u001b[38;5;124m\"\u001b[39m\u001b[38;5;124mDifference: \u001b[39m\u001b[38;5;132;01m{\u001b[39;00mdifference\u001b[38;5;132;01m}\u001b[39;00m\u001b[38;5;124m\"\u001b[39m)\n",
      "\u001b[0;31mTypeError\u001b[0m: 'int' object is not callable"
     ]
    }
   ],
   "source": [
    "# Day 1 part 1\n",
    "\n",
    "with open('day1input.txt', 'r') as file:\n",
    "    lines = file.readlines()\n",
    "\n",
    "left_column: list[int] = []\n",
    "right_column: list[int] = []\n",
    "\n",
    "\n",
    "for line in lines:\n",
    "\n",
    "    numbers = line.split()\n",
    "    if len(numbers) == 2:\n",
    "\n",
    "        left, right = map(int,numbers)\n",
    "        left_column.append(left)\n",
    "        right_column.append(right)\n",
    "\n",
    "left_column.sort()\n",
    "right_column.sort()\n",
    "\n",
    "differences = [abs(l-r)for l,r in zip(left_column,right_column)]\n",
    "difference = sum(differences)\n",
    "print(f\"Difference: {difference}\")\n"
   ]
  },
  {
   "cell_type": "markdown",
   "metadata": {},
   "source": [
    "# Day 2"
   ]
  },
  {
   "cell_type": "code",
   "execution_count": 15,
   "metadata": {},
   "outputs": [
    {
     "name": "stdout",
     "output_type": "stream",
     "text": [
      "411\n"
     ]
    }
   ],
   "source": [
    "# Day 2 part 1\n",
    "def is_safe(nums):\n",
    "\n",
    "    for i in range(1, len(nums)):\n",
    "        diff = abs(nums[i] - nums[i -1])\n",
    "        if diff < 1 or diff > 3:\n",
    "            return False\n",
    "\n",
    "    if nums == sorted(nums) or nums == sorted(nums, reverse=True):\n",
    "        return True\n",
    "    else:\n",
    "        return False\n",
    "\n",
    "\n",
    "def main ():\n",
    "    counter = 0\n",
    "\n",
    "    with open('day2input.txt' , 'r') as file:\n",
    "\n",
    "        reports = [list(map(int, line.split())) for line in file]\n",
    "\n",
    "\n",
    "\n",
    "        for report in reports:\n",
    "            if is_safe(report):\n",
    "                counter += 1\n",
    "\n",
    "\n",
    "    print(counter)\n",
    "\n",
    "\n",
    "if __name__ == \"__main__\":\n",
    "\n",
    "    main()"
   ]
  },
  {
   "cell_type": "code",
   "execution_count": 16,
   "metadata": {},
   "outputs": [
    {
     "name": "stdout",
     "output_type": "stream",
     "text": [
      "465\n"
     ]
    }
   ],
   "source": [
    "# Day 2 part 2\n",
    "def is_safe(nums):\n",
    "\n",
    "    def is_valid_diff(nums):\n",
    "        # Check if all adjacent differences are between 1 and 3.\n",
    "        return all(1 <= abs(nums[i] - nums[i - 1]) <= 3 for i in range(1, len(nums)))\n",
    "\n",
    "    def is_sorted_and_valid(nums):\n",
    "        # Check if a list is sorted (ascending or descending) and valid.\n",
    "        return (nums == sorted(nums) or nums == sorted(nums, reverse=True)) and is_valid_diff(nums)\n",
    "\n",
    "\n",
    "    # Check if removing one level makes the list safe\n",
    "    for i in range(len(nums)):\n",
    "        new_nums = nums[:i] + nums[i + 1:]  # Remove the i-th element\n",
    "        if is_sorted_and_valid(new_nums):\n",
    "            return True\n",
    "\n",
    "    return False  # Not safe if none of the above conditions are satisfied\n",
    "\n",
    "\n",
    "def main():\n",
    "    safe_count = 0\n",
    "\n",
    "    with open('day2input.txt', 'r') as file:\n",
    "        # Parse the input into a list of lists of integers\n",
    "        reports = [list(map(int, line.split())) for line in file]\n",
    "\n",
    "        # Check each report\n",
    "        for report in reports:\n",
    "            if is_safe(report):\n",
    "                safe_count += 1\n",
    "\n",
    "    print(safe_count)\n",
    "\n",
    "\n",
    "if __name__ == \"__main__\":\n",
    "    main()\n"
   ]
  },
  {
   "cell_type": "markdown",
   "metadata": {},
   "source": [
    "# Day 3\n"
   ]
  },
  {
   "cell_type": "code",
   "execution_count": 17,
   "metadata": {},
   "outputs": [
    {
     "name": "stdout",
     "output_type": "stream",
     "text": [
      "166905464\n"
     ]
    }
   ],
   "source": [
    "# Day 3 part 1\n",
    "\n",
    "import re\n",
    "\n",
    "def main():\n",
    "    total = 0\n",
    "    with open(\"day3input.txt\", \"r\") as file:\n",
    "        for line in file:\n",
    "\n",
    "            nums = re.findall(r\"mul\\((\\d+),(\\d+)\\)\", line)\n",
    "\n",
    "            for i,j in nums:\n",
    "                # Making strings to ints and multiplying\n",
    "                result = int(i) * int(j)\n",
    "                total += result\n",
    "    print(total)\n",
    "\n",
    "if __name__ == \"__main__\":\n",
    "    main()\n"
   ]
  },
  {
   "cell_type": "code",
   "execution_count": null,
   "metadata": {},
   "outputs": [],
   "source": [
    "# Day 3 part 2"
   ]
  }
 ],
 "metadata": {
  "kernelspec": {
   "display_name": "base",
   "language": "python",
   "name": "python3"
  },
  "language_info": {
   "codemirror_mode": {
    "name": "ipython",
    "version": 3
   },
   "file_extension": ".py",
   "mimetype": "text/x-python",
   "name": "python",
   "nbconvert_exporter": "python",
   "pygments_lexer": "ipython3",
   "version": "3.12.2"
  }
 },
 "nbformat": 4,
 "nbformat_minor": 2
}
